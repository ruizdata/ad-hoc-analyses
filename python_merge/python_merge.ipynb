{
 "cells": [
  {
   "cell_type": "code",
   "execution_count": 1,
   "id": "dee2d3fc",
   "metadata": {},
   "outputs": [],
   "source": [
    "# PROBLEM 1: Use merge function to identify supersets between two dataframes (left and right); equivalent to SQL JOINS"
   ]
  },
  {
   "cell_type": "code",
   "execution_count": 2,
   "id": "dbeae6a2",
   "metadata": {},
   "outputs": [
    {
     "name": "stdout",
     "output_type": "stream",
     "text": [
      "  key  value\n",
      "0   A      1\n",
      "1   B      2\n",
      "2   C      3\n",
      "3   D      4\n",
      "  key  value\n",
      "0   B      5\n",
      "1   D      6\n",
      "2   E      7\n",
      "3   F      8\n"
     ]
    }
   ],
   "source": [
    "import pandas as pd\n",
    "\n",
    "# Creating two test DataFrames\n",
    "left_df = pd.DataFrame({'key': ['A', 'B', 'C', 'D'],\n",
    "                    'value': [1, 2, 3, 4]})\n",
    "\n",
    "right_df = pd.DataFrame({'key': ['B', 'D', 'E', 'F'],\n",
    "                    'value': [5, 6, 7, 8]})\n",
    "\n",
    "print(left_df)\n",
    "print(right_df)"
   ]
  },
  {
   "cell_type": "code",
   "execution_count": 3,
   "id": "745bc38c",
   "metadata": {},
   "outputs": [
    {
     "name": "stdout",
     "output_type": "stream",
     "text": [
      "  key  value_x  value_y\n",
      "0   A        1      NaN\n",
      "1   B        2      5.0\n",
      "2   C        3      NaN\n",
      "3   D        4      6.0\n"
     ]
    }
   ],
   "source": [
    "# Left join DataFrames using the 'key' column\n",
    "left_merged_df = pd.merge(left_df, right_df, on='key', how='left')\n",
    "\n",
    "# Display the left-joined DataFrame\n",
    "print(left_merged_df)\n"
   ]
  },
  {
   "cell_type": "code",
   "execution_count": 4,
   "id": "cd0ce96c",
   "metadata": {},
   "outputs": [
    {
     "name": "stdout",
     "output_type": "stream",
     "text": [
      "  key  value_x  value_y\n",
      "0   B      2.0        5\n",
      "1   D      4.0        6\n",
      "2   E      NaN        7\n",
      "3   F      NaN        8\n"
     ]
    }
   ],
   "source": [
    "# Right Join\n",
    "right_merged_df = pd.merge(left_df, right_df, on='key', how='right')\n",
    "print(right_merged_df)"
   ]
  },
  {
   "cell_type": "code",
   "execution_count": 5,
   "id": "9466017d",
   "metadata": {},
   "outputs": [
    {
     "name": "stdout",
     "output_type": "stream",
     "text": [
      "  key  value_x  value_y\n",
      "0   B        2        5\n",
      "1   D        4        6\n"
     ]
    }
   ],
   "source": [
    "# Inner Join (The two dataframes contain the same sets of observations)\n",
    "inner_merged_df = pd.merge(left_df, right_df, on='key', how='inner')\n",
    "print(inner_merged_df)\n"
   ]
  },
  {
   "cell_type": "code",
   "execution_count": 6,
   "id": "2908cf29",
   "metadata": {},
   "outputs": [
    {
     "name": "stdout",
     "output_type": "stream",
     "text": [
      "  key  value_x  value_y\n",
      "0   A      1.0      NaN\n",
      "1   B      2.0      5.0\n",
      "2   C      3.0      NaN\n",
      "3   D      4.0      6.0\n",
      "4   E      NaN      7.0\n",
      "5   F      NaN      8.0\n"
     ]
    }
   ],
   "source": [
    "# Outer Join (When neither dataframe is a superset of the other)\n",
    "outer_merged_df = pd.merge(left_df, right_df, on='key', how='outer')\n",
    "print(outer_merged_df)"
   ]
  },
  {
   "cell_type": "code",
   "execution_count": 7,
   "id": "533bb926",
   "metadata": {},
   "outputs": [],
   "source": [
    "# Check dataframes for consistency of their types\n",
    "\n",
    "# Check column types\n",
    "left_key_type = left_df['key'].dtype\n",
    "right_key_type = right_df['key'].dtype\n",
    "\n",
    "# Check if column types are compatible\n",
    "if left_key_type != right_key_type:\n",
    "    raise ValueError(\"Column types are not compatible for merging. Please make sure the 'key' columns have the same data type.\")\n"
   ]
  },
  {
   "cell_type": "code",
   "execution_count": 8,
   "id": "d04ac868",
   "metadata": {},
   "outputs": [],
   "source": [
    "# PROBLEM 2: Write a function to calculate the number of days of overlap between the two events. "
   ]
  },
  {
   "cell_type": "code",
   "execution_count": 9,
   "id": "8369525e",
   "metadata": {},
   "outputs": [
    {
     "name": "stdout",
     "output_type": "stream",
     "text": [
      "The number of overlapping days is: 6\n"
     ]
    }
   ],
   "source": [
    "def calculate_overlap_days(event_1_start_date, event_1_end_date, event_2_start_date, event_2_end_date):\n",
    "    # Convert input dates to pandas datetime objects\n",
    "    start_date_1 = pd.to_datetime(event_1_start_date)\n",
    "    end_date_1 = pd.to_datetime(event_1_end_date)\n",
    "    start_date_2 = pd.to_datetime(event_2_start_date)\n",
    "    end_date_2 = pd.to_datetime(event_2_end_date)\n",
    "\n",
    "    # Find the latest of the two start dates and the earliest of the two end dates\n",
    "    latest_start = max(start_date_1, start_date_2)\n",
    "    earliest_end = min(end_date_1, end_date_2)\n",
    "\n",
    "    # Calculate the duration of the overlap, considering a minimum of 0 days\n",
    "    overlap_days = max((earliest_end - latest_start).days + 1, 0)\n",
    "\n",
    "    return overlap_days\n",
    "\n",
    "# Test Data:\n",
    "event_1_start_date = '2023-01-01'\n",
    "event_1_end_date = '2023-01-10'\n",
    "event_2_start_date = '2023-01-05'\n",
    "event_2_end_date = '2023-01-15'\n",
    "\n",
    "overlap_days = calculate_overlap_days(event_1_start_date, event_1_end_date, event_2_start_date, event_2_end_date)\n",
    "print(f'The number of overlapping days is: {overlap_days}')\n"
   ]
  },
  {
   "cell_type": "code",
   "execution_count": 10,
   "id": "6a472a5b",
   "metadata": {},
   "outputs": [],
   "source": [
    "# PROBLEM 3: You have 3 tables: medical_event, enrollment_table (enrollment in health insurance), death_date\n",
    "\n",
    "# Determine the medical events where the patient was enrolled fully in health insurance.\n",
    "\n",
    "# ASSUMPTIONS: \n",
    "# If patient DIED, use death_date insted of event_end_date\n",
    "# Multiple enrollment_dates does not mean gaps in insurance. If there is overlap, treat the min and max dates as the entire coverage.\n",
    "# Enrollment dates are given in MONTHS. Use 1st day of month and last day of month to be specific"
   ]
  },
  {
   "cell_type": "code",
   "execution_count": 11,
   "id": "8f4eccf0",
   "metadata": {},
   "outputs": [
    {
     "name": "stdout",
     "output_type": "stream",
     "text": [
      "Medical Event Table:\n",
      "  patient_id event_id event_start_date event_end_date\n",
      "0          A        a       2019-06-02     2019-09-03\n",
      "1          B       b1       2019-01-01     2019-04-01\n",
      "2          B       b2       2019-03-14     2019-06-14\n",
      "3          C       c1       2019-05-15     2019-08-11\n",
      "4          C       c2       2019-10-25     2020-02-12\n",
      "5          D        d       2020-03-01     2020-05-24\n",
      "6          E        e       2020-04-13     2020-07-15\n",
      "\n",
      "Enrollment Table:\n",
      "  patient_id enrollment_start_year_month enrollment_end_year_month\n",
      "0          A                  2018-01-01                2019-07-01\n",
      "1          A                  2019-09-01                2022-01-01\n",
      "2          B                  2018-01-01                2019-02-01\n",
      "3          B                  2019-01-01                2019-04-01\n",
      "4          C                  2019-06-01                2022-05-01\n",
      "5          D                  2020-03-01                2020-05-01\n",
      "6          E                  2020-01-01                2020-12-01\n",
      "\n",
      "Death Dates Table:\n",
      "  patient_id death_date\n",
      "0          B 2019-04-30\n",
      "1          D 2022-05-12\n",
      "2          E 2023-01-04\n"
     ]
    }
   ],
   "source": [
    "# Medical Event Table\n",
    "medical_event_data = {\n",
    "    'patient_id': ['A', 'B', 'B', 'C', 'C', 'D', 'E'],\n",
    "    'event_id': ['a', 'b1', 'b2', 'c1', 'c2', 'd', 'e'],\n",
    "    'event_start_date': ['6/2/2019', '1/1/2019', '3/14/2019', '5/15/2019', '10/25/2019', '3/1/2020', '4/13/2020'],\n",
    "    'event_end_date': ['9/3/2019', '4/1/2019', '6/14/2019', '8/11/2019', '2/12/2020', '5/24/2020', '7/15/2020']\n",
    "}\n",
    "\n",
    "medical_event_df = pd.DataFrame(medical_event_data)\n",
    "medical_event_df['event_start_date'] = pd.to_datetime(medical_event_df['event_start_date'], format='%m/%d/%Y')\n",
    "medical_event_df['event_end_date'] = pd.to_datetime(medical_event_df['event_end_date'], format='%m/%d/%Y')\n",
    "\n",
    "# Enrollment Table\n",
    "enrollment_data = {\n",
    "    'patient_id': ['A', 'A', 'B', 'B', 'C', 'D', 'E'],\n",
    "    'enrollment_start_year_month': ['2018-01', '2019-09', '2018-01', '2019-01', '2019-06', '2020-03', '2020-01'],\n",
    "    'enrollment_end_year_month': ['2019-07', '2022-01', '2019-02', '2019-04', '2022-05', '2020-05', '2020-12']\n",
    "}\n",
    "\n",
    "enrollment_df = pd.DataFrame(enrollment_data)\n",
    "enrollment_df['enrollment_start_year_month'] = pd.to_datetime(enrollment_df['enrollment_start_year_month'], format='%Y-%m')\n",
    "enrollment_df['enrollment_end_year_month'] = pd.to_datetime(enrollment_df['enrollment_end_year_month'], format='%Y-%m')\n",
    "\n",
    "# Death Dates Table\n",
    "death_dates_data = {\n",
    "    'patient_id': ['B', 'D', 'E'],\n",
    "    'death_date': ['4/30/2019', '5/12/2022', '1/4/2023']\n",
    "}\n",
    "\n",
    "death_dates_df = pd.DataFrame(death_dates_data)\n",
    "death_dates_df['death_date'] = pd.to_datetime(death_dates_df['death_date'], format='%m/%d/%Y')\n",
    "\n",
    "# Display the DataFrames\n",
    "print(\"Medical Event Table:\")\n",
    "print(medical_event_df)\n",
    "print(\"\\nEnrollment Table:\")\n",
    "print(enrollment_df)\n",
    "print(\"\\nDeath Dates Table:\")\n",
    "print(death_dates_df)\n"
   ]
  },
  {
   "cell_type": "code",
   "execution_count": 12,
   "id": "de4036cd",
   "metadata": {},
   "outputs": [
    {
     "name": "stdout",
     "output_type": "stream",
     "text": [
      "Aggregate Enrollment Table:\n",
      "  patient_id enrollment_start_year_month enrollment_end_year_month\n",
      "0          A                  2018-01-01                2022-01-01\n",
      "1          B                  2018-01-01                2019-04-01\n",
      "2          C                  2019-06-01                2022-05-01\n",
      "3          D                  2020-03-01                2020-05-01\n",
      "4          E                  2020-01-01                2020-12-01\n"
     ]
    }
   ],
   "source": [
    "# Aggregate the enrollment periods\n",
    "\n",
    "# Group by patient_id and aggregate enrollment periods\n",
    "agg_enrollment_df = enrollment_df.groupby('patient_id').agg({\n",
    "    'enrollment_start_year_month': 'min',\n",
    "    'enrollment_end_year_month': 'max'\n",
    "}).reset_index()\n",
    "\n",
    "# Display the merged DataFrame\n",
    "print(\"Aggregate Enrollment Table:\")\n",
    "print(agg_enrollment_df)"
   ]
  },
  {
   "cell_type": "code",
   "execution_count": 13,
   "id": "66f9b9ca",
   "metadata": {},
   "outputs": [
    {
     "name": "stdout",
     "output_type": "stream",
     "text": [
      "Merged DataFrame:\n",
      "  patient_id event_id event_start_date event_end_date  \\\n",
      "0          A        a       2019-06-02     2019-09-03   \n",
      "1          B       b1       2019-01-01     2019-04-01   \n",
      "2          B       b2       2019-03-14     2019-06-14   \n",
      "3          C       c1       2019-05-15     2019-08-11   \n",
      "4          C       c2       2019-10-25     2020-02-12   \n",
      "5          D        d       2020-03-01     2020-05-24   \n",
      "6          E        e       2020-04-13     2020-07-15   \n",
      "\n",
      "  enrollment_start_year_month enrollment_end_year_month death_date  \n",
      "0                  2018-01-01                2022-01-01        NaT  \n",
      "1                  2018-01-01                2019-04-01 2019-04-30  \n",
      "2                  2018-01-01                2019-04-01 2019-04-30  \n",
      "3                  2019-06-01                2022-05-01        NaT  \n",
      "4                  2019-06-01                2022-05-01        NaT  \n",
      "5                  2020-03-01                2020-05-01 2022-05-12  \n",
      "6                  2020-01-01                2020-12-01 2023-01-04  \n"
     ]
    }
   ],
   "source": [
    "# Merge all tables\n",
    "\n",
    "# Merge medical_event_df and agg_enrollment_df on 'patient_id'\n",
    "merged_df = pd.merge(medical_event_df, agg_enrollment_df, on='patient_id', how='left')\n",
    "\n",
    "# Merge the result with death_dates_df on 'patient_id'\n",
    "merged_df = pd.merge(merged_df, death_dates_df, on='patient_id', how='left')\n",
    "\n",
    "# Display the merged DataFrame\n",
    "print(\"Merged DataFrame:\")\n",
    "print(merged_df)\n"
   ]
  },
  {
   "cell_type": "code",
   "execution_count": 14,
   "id": "226d32ba",
   "metadata": {},
   "outputs": [
    {
     "name": "stdout",
     "output_type": "stream",
     "text": [
      "Modified Merged DataFrame:\n",
      "  patient_id event_id enrollment_start_year_month enrollment_end_year_month  \\\n",
      "0          A        a                  2018-01-01                2022-01-01   \n",
      "1          B       b1                  2018-01-01                2019-04-01   \n",
      "2          B       b2                  2018-01-01                2019-04-01   \n",
      "3          C       c1                  2019-06-01                2022-05-01   \n",
      "4          C       c2                  2019-06-01                2022-05-01   \n",
      "5          D        d                  2020-03-01                2020-05-01   \n",
      "6          E        e                  2020-01-01                2020-12-01   \n",
      "\n",
      "  enrollment_start_date enrollment_end_date  \n",
      "0            2018-01-01          2022-01-31  \n",
      "1            2018-01-01          2019-04-30  \n",
      "2            2018-01-01          2019-04-30  \n",
      "3            2019-06-01          2022-05-31  \n",
      "4            2019-06-01          2022-05-31  \n",
      "5            2020-03-01          2020-05-31  \n",
      "6            2020-01-01          2020-12-31  \n"
     ]
    }
   ],
   "source": [
    "# Convert enrollment_start_year_month to datetime and set to the first day of the month\n",
    "merged_df['enrollment_start_date'] = pd.to_datetime(merged_df['enrollment_start_year_month'], format='%Y-%m') + pd.offsets.MonthBegin(0)\n",
    "\n",
    "# Convert enrollment_end_year_month to datetime and set to the last day of the month\n",
    "merged_df['enrollment_end_date'] = pd.to_datetime(merged_df['enrollment_end_year_month'], format='%Y-%m') + pd.offsets.MonthEnd(0)\n",
    "\n",
    "# Display the modified DataFrame\n",
    "print(\"Modified Merged DataFrame:\")\n",
    "print(merged_df[['patient_id', 'event_id', 'enrollment_start_year_month', 'enrollment_end_year_month', 'enrollment_start_date', 'enrollment_end_date']])\n",
    "\n"
   ]
  },
  {
   "cell_type": "code",
   "execution_count": 15,
   "id": "4c1d1b99",
   "metadata": {},
   "outputs": [
    {
     "name": "stdout",
     "output_type": "stream",
     "text": [
      "Events where event dates are part of enrollment dates and death_date is null:\n",
      "  patient_id event_id event_start_date event_end_date\n",
      "0          A        a       2019-06-02     2019-09-03\n",
      "4          C       c2       2019-10-25     2020-02-12\n"
     ]
    }
   ],
   "source": [
    "# Filter rows where death_date is null\n",
    "filtered_df = merged_df[merged_df['death_date'].isnull()]\n",
    "\n",
    "# Filter rows where event dates are within enrollment dates\n",
    "result_df = filtered_df[(filtered_df['event_start_date'] >= filtered_df['enrollment_start_date']) & \n",
    "                         (filtered_df['event_end_date'] <= filtered_df['enrollment_end_date'])]\n",
    "\n",
    "# Display the result DataFrame\n",
    "print(\"Events where event dates are part of enrollment dates and death_date is null:\")\n",
    "print(result_df[['patient_id', 'event_id', 'event_start_date', 'event_end_date']])\n",
    "\n"
   ]
  },
  {
   "cell_type": "code",
   "execution_count": 16,
   "id": "4d634b6e",
   "metadata": {},
   "outputs": [],
   "source": [
    "# Interpretation: In events a and c2, the patients did not die. Their health insurance covered their entire stay."
   ]
  },
  {
   "cell_type": "code",
   "execution_count": 17,
   "id": "1884e749",
   "metadata": {},
   "outputs": [
    {
     "name": "stdout",
     "output_type": "stream",
     "text": [
      "Events where event dates are part of enrollment dates and there is a death_date:\n",
      "  patient_id event_id event_start_date event_end_date\n",
      "1          B       b1       2019-01-01     2019-04-01\n",
      "5          D        d       2020-03-01     2020-05-24\n",
      "6          E        e       2020-04-13     2020-07-15\n"
     ]
    }
   ],
   "source": [
    "# Filter rows where death_date is not null\n",
    "filtered_df = merged_df[merged_df['death_date'].notnull()]\n",
    "\n",
    "# Filter rows where event dates are within enrollment dates and death date\n",
    "result_df = filtered_df[(filtered_df['event_start_date'] >= filtered_df['enrollment_start_date']) & \n",
    "                         (filtered_df['death_date'] >= filtered_df['event_end_date'])]\n",
    "\n",
    "# Display the result DataFrame\n",
    "print(\"Events where event dates are part of enrollment dates and there is a death_date:\")\n",
    "print(result_df[['patient_id', 'event_id', 'event_start_date', 'event_end_date']])\n"
   ]
  },
  {
   "cell_type": "code",
   "execution_count": 18,
   "id": "0194370b",
   "metadata": {},
   "outputs": [],
   "source": [
    "# Interpretation: In events b1, d, and e. The patients did die and their insurance covered their entire stay till they died."
   ]
  }
 ],
 "metadata": {
  "kernelspec": {
   "display_name": "Python 3 (ipykernel)",
   "language": "python",
   "name": "python3"
  },
  "language_info": {
   "codemirror_mode": {
    "name": "ipython",
    "version": 3
   },
   "file_extension": ".py",
   "mimetype": "text/x-python",
   "name": "python",
   "nbconvert_exporter": "python",
   "pygments_lexer": "ipython3",
   "version": "3.11.3"
  }
 },
 "nbformat": 4,
 "nbformat_minor": 5
}
